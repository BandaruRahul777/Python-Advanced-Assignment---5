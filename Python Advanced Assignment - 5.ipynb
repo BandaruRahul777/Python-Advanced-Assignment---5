{
 "cells": [
  {
   "cell_type": "code",
   "execution_count": null,
   "id": "115a2484",
   "metadata": {},
   "outputs": [],
   "source": [
    "Question 1"
   ]
  },
  {
   "cell_type": "code",
   "execution_count": null,
   "id": "5e98979d",
   "metadata": {},
   "outputs": [],
   "source": [
    "Inheritence is nothing but reusing the code of Parent class by the child class. Similary when a child class inherits its\n",
    "properties from multiple Parent classes this scenario is called Multiple Inheritence"
   ]
  },
  {
   "cell_type": "code",
   "execution_count": null,
   "id": "f39efc71",
   "metadata": {},
   "outputs": [],
   "source": [
    "Question 2"
   ]
  },
  {
   "cell_type": "code",
   "execution_count": null,
   "id": "2256cb59",
   "metadata": {},
   "outputs": [],
   "source": [
    "Delegation provides a proxy object for any class thay you want on top of the main class. its like a wrapper to your class\n",
    "so that you can access limited resources of the main class.It Wraps the object of main class into a smaller object with\n",
    "limited access\n",
    "\n",
    "Simply Delegation means that you can include a instance of another class as an instance variable, and forward messages to the\n",
    "instance."
   ]
  },
  {
   "cell_type": "code",
   "execution_count": null,
   "id": "0bab09fa",
   "metadata": {},
   "outputs": [],
   "source": [
    "Question 3"
   ]
  },
  {
   "cell_type": "code",
   "execution_count": null,
   "id": "d5c36269",
   "metadata": {},
   "outputs": [],
   "source": [
    "In the concept of Composition, a class refers to one or more other classes by using instances of those classes as a instance\n",
    "variable. irrespective of inheritence in this approach all the parent class members are not inherited into child class,\n",
    "but only required methods from a class are used by using class instances."
   ]
  },
  {
   "cell_type": "code",
   "execution_count": null,
   "id": "427d97e5",
   "metadata": {},
   "outputs": [],
   "source": [
    "Question 4"
   ]
  },
  {
   "cell_type": "code",
   "execution_count": null,
   "id": "15d2c71c",
   "metadata": {},
   "outputs": [],
   "source": [
    "If a function is an attribute of class and it is accessed via the instances, they are called bound methods.\n",
    "A bound method is one that has self as its first argument. Since these are dependent on the instance of classes,\n",
    "these are also known as instance methods."
   ]
  },
  {
   "cell_type": "code",
   "execution_count": 1,
   "id": "429fc59a",
   "metadata": {},
   "outputs": [
    {
     "name": "stdout",
     "output_type": "stream",
     "text": [
      "Called method_one\n",
      "Called method_two\n",
      "Called method_two\n",
      "Called method_three\n"
     ]
    }
   ],
   "source": [
    "class Test:\n",
    "    def method_one(self): # bound method\n",
    "        print(\"Called method_one\")\n",
    "    @classmethod\n",
    "    def method_two(cls): # unbound method\n",
    "        print(\"Called method_two\")\n",
    "    @staticmethod\n",
    "    def method_three(): # static method\n",
    "        print(\"Called method_three\")\n",
    "\n",
    "test = Test()\n",
    "test.method_one() # accessing through instance object\n",
    "test.method_two() # accessing through instance object\n",
    "Test.method_two() # accessing directly through class\n",
    "Test.method_three() # accessing directly through class"
   ]
  },
  {
   "cell_type": "code",
   "execution_count": null,
   "id": "5836014f",
   "metadata": {},
   "outputs": [],
   "source": [
    "Question 5"
   ]
  },
  {
   "cell_type": "code",
   "execution_count": null,
   "id": "1ecaa6be",
   "metadata": {},
   "outputs": [],
   "source": [
    "Pseudoprivate attributes are also useful in larger frameworks or tools, both to avoid introducing new method names that might\n",
    "accidentally hide definitions elsewhere in the class tree and to reduce the chance of internal methods being replaced by names\n",
    "defined lower in the tree. If a method is intended for use only within a class that may be mixed into other classes, the double\n",
    "underscore prefix ensures that the method won't interfere with other names in the tree, especially in multiple-inheritance\n",
    "scenarios"
   ]
  }
 ],
 "metadata": {
  "kernelspec": {
   "display_name": "Python 3 (ipykernel)",
   "language": "python",
   "name": "python3"
  },
  "language_info": {
   "codemirror_mode": {
    "name": "ipython",
    "version": 3
   },
   "file_extension": ".py",
   "mimetype": "text/x-python",
   "name": "python",
   "nbconvert_exporter": "python",
   "pygments_lexer": "ipython3",
   "version": "3.9.7"
  }
 },
 "nbformat": 4,
 "nbformat_minor": 5
}
